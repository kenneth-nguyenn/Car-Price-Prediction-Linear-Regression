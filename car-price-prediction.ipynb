{
  "nbformat": 4,
  "nbformat_minor": 0,
  "metadata": {
    "colab": {
      "name": "DO_AN_01_TTK&UD",
      "provenance": [],
      "collapsed_sections": []
    },
    "kernelspec": {
      "name": "python3",
      "display_name": "Python 3",
      "language": "python"
    }
  },
  "cells": [
    {
      "cell_type": "code",
      "metadata": {
        "id": "R2TiWfqgKleA",
        "colab_type": "code",
        "colab": {}
      },
      "source": [
        "import pandas as pd\n",
        "import numpy as np\n",
        "import matplotlib.pyplot as plt\n",
        "import seaborn as sns\n",
        "from sklearn.model_selection import train_test_split\n",
        "from sklearn.linear_model import LinearRegression\n",
        "from sklearn.preprocessing import MinMaxScaler"
      ],
      "execution_count": null,
      "outputs": []
    },
    {
      "cell_type": "markdown",
      "metadata": {
        "id": "vW-PQkBRXdSh",
        "colab_type": "text"
      },
      "source": [
        "**Bước 1:** Đọc và hiểu Tập dữ liệu\n",
        "\n",
        "\n",
        "*   Đọc dữ liệu từ file X_train và Y_train sử dụng Pandas Library\n",
        "*   Hiểu cấu trúc của Tập dữ liệu X_train và Y_train\n",
        "\n"
      ]
    },
    {
      "cell_type": "code",
      "metadata": {
        "id": "S5sAuMAWKphp",
        "colab_type": "code",
        "colab": {}
      },
      "source": [
        "dataPrice = pd.read_csv(r'D:/@ALL/@STUDY/4. Tự học/MachineLearningCoBan/Project_01/Y_train.csv')\n",
        "dataAttributes = pd.read_csv(r'D:/@ALL/@STUDY/4. Tự học/MachineLearningCoBan/Project_01/X_train.csv')"
      ],
      "execution_count": null,
      "outputs": []
    },
    {
      "cell_type": "markdown",
      "metadata": {
        "id": "8WjAf0OzafE6",
        "colab_type": "text"
      },
      "source": [
        "5 dữ liệu đầu của dataPrice (Y_train):"
      ]
    },
    {
      "cell_type": "code",
      "metadata": {
        "id": "AGDKcSRmYfuc",
        "colab_type": "code",
        "colab": {
          "base_uri": "https://localhost:8080/",
          "height": 195
        },
        "outputId": "59a64a7a-e536-44b8-fd72-33b82fd8c8ff"
      },
      "source": [
        "dataPrice.head()"
      ],
      "execution_count": null,
      "outputs": []
    },
    {
      "cell_type": "markdown",
      "metadata": {
        "id": "Uin7T0BCao_M",
        "colab_type": "text"
      },
      "source": [
        "5 dữ liệu đầu của dataAtributes (X_train):"
      ]
    },
    {
      "cell_type": "code",
      "metadata": {
        "id": "CSCNvdE-YhQ3",
        "colab_type": "code",
        "colab": {
          "base_uri": "https://localhost:8080/",
          "height": 232
        },
        "outputId": "4fc5146e-4885-452f-baee-fb327f53c840"
      },
      "source": [
        "dataAttributes.head()"
      ],
      "execution_count": null,
      "outputs": []
    },
    {
      "cell_type": "code",
      "metadata": {
        "id": "L09YZfqDZoRP",
        "colab_type": "code",
        "colab": {
          "base_uri": "https://localhost:8080/",
          "height": 34
        },
        "outputId": "8cf97cd7-cbcb-4c09-ec2f-43c401e55064"
      },
      "source": [
        "dataAttributes.shape"
      ],
      "execution_count": null,
      "outputs": []
    },
    {
      "cell_type": "code",
      "metadata": {
        "id": "wZVLyiuXZuDp",
        "colab_type": "code",
        "colab": {
          "base_uri": "https://localhost:8080/",
          "height": 34
        },
        "outputId": "f7425fcb-23dd-4252-ef3e-96052a5fc8fa"
      },
      "source": [
        "dataPrice.shape"
      ],
      "execution_count": null,
      "outputs": []
    },
    {
      "cell_type": "markdown",
      "metadata": {
        "id": "yfg6-qUwayX3",
        "colab_type": "text"
      },
      "source": [
        "dataAttributes có 30000 dòng dữ liệu và 23 cột thuộc tính, dataPrice có 30000 dòng dữ liệu và 2 cột thuộc tính."
      ]
    },
    {
      "cell_type": "code",
      "metadata": {
        "id": "C1AsXjgoPDGI",
        "colab_type": "code",
        "colab": {
          "base_uri": "https://localhost:8080/",
          "height": 284
        },
        "outputId": "6cb4f410-545d-4175-cd6a-9a77e595e067"
      },
      "source": [
        "dataAttributes.describe()"
      ],
      "execution_count": null,
      "outputs": []
    },
    {
      "cell_type": "code",
      "metadata": {
        "id": "sS9H8gvA3EWo",
        "colab_type": "code",
        "colab": {
          "base_uri": "https://localhost:8080/",
          "height": 166
        },
        "outputId": "9f362589-3511-4767-d0a2-637228537e25"
      },
      "source": [
        "dataAttributes.describe(include=[object])"
      ],
      "execution_count": null,
      "outputs": []
    },
    {
      "cell_type": "code",
      "metadata": {
        "id": "COySXiD13ygX",
        "colab_type": "code",
        "colab": {
          "base_uri": "https://localhost:8080/",
          "height": 166
        },
        "outputId": "f0f2fba3-2c05-410a-f8ee-f58f27470e40"
      },
      "source": [
        "dataAttributes.describe(include=[bool])"
      ],
      "execution_count": null,
      "outputs": []
    },
    {
      "cell_type": "code",
      "metadata": {
        "id": "O5qYYQXUbRZw",
        "colab_type": "code",
        "colab": {
          "base_uri": "https://localhost:8080/",
          "height": 284
        },
        "outputId": "efc01302-a0e2-4f76-e291-dfee9bb28f8b"
      },
      "source": [
        "dataPrice.describe()"
      ],
      "execution_count": null,
      "outputs": []
    },
    {
      "cell_type": "code",
      "metadata": {
        "id": "rtxeUdjZKr5v",
        "colab_type": "code",
        "colab": {
          "base_uri": "https://localhost:8080/",
          "height": 521
        },
        "outputId": "e05e7d2b-557c-42bf-c237-bb94fa93e20a"
      },
      "source": [
        "dataAttributes.info()"
      ],
      "execution_count": null,
      "outputs": []
    },
    {
      "cell_type": "code",
      "metadata": {
        "id": "VkrMARuiPcpi",
        "colab_type": "code",
        "colab": {
          "base_uri": "https://localhost:8080/",
          "height": 168
        },
        "outputId": "6de7274b-4be5-470a-c591-62e5593c5775"
      },
      "source": [
        "dataPrice.info()"
      ],
      "execution_count": null,
      "outputs": []
    },
    {
      "cell_type": "markdown",
      "metadata": {
        "id": "hJrvkASge6Zc",
        "colab_type": "text"
      },
      "source": [
        "**Bước 2:** Làm sạch dữ liệu và chuẩn bị dữ liệu:"
      ]
    },
    {
      "cell_type": "markdown",
      "metadata": {
        "id": "ltGDzow6d3CK",
        "colab_type": "text"
      },
      "source": [
        "dataAttributes có thuộc tính **\"engineCapacity\"** có 9 dữ liệu bị trống, vì chỉ \n",
        "có 9/30000 dữ liệu bị trống nên bỏ đi 9 dòng dữ liệu đó:\n",
        "Dữ liệu còn lại là: 29991 dữ liệu"
      ]
    },
    {
      "cell_type": "code",
      "metadata": {
        "id": "1IO1ToX3gDL7",
        "colab_type": "code",
        "colab": {}
      },
      "source": [
        "dataAttributes = dataAttributes.dropna()"
      ],
      "execution_count": null,
      "outputs": []
    },
    {
      "cell_type": "code",
      "metadata": {
        "id": "5oGjCOcqtDoX",
        "colab_type": "code",
        "colab": {
          "base_uri": "https://localhost:8080/",
          "height": 521
        },
        "outputId": "5c931f2c-2577-4d2e-9cd0-60ab8635d802"
      },
      "source": [
        "dataAttributes.info()"
      ],
      "execution_count": null,
      "outputs": []
    },
    {
      "cell_type": "markdown",
      "metadata": {
        "id": "zc6ujgwT0fSi",
        "colab_type": "text"
      },
      "source": [
        "Kiểm tra không có dữ liệu nào trùng nhau:"
      ]
    },
    {
      "cell_type": "code",
      "metadata": {
        "id": "hlsF4V6DP5xh",
        "colab_type": "code",
        "colab": {
          "base_uri": "https://localhost:8080/",
          "height": 67
        },
        "outputId": "ba97f30f-0876-463c-87fb-890abb344cad"
      },
      "source": [
        "dataAttributes.loc[dataAttributes.duplicated()]"
      ],
      "execution_count": null,
      "outputs": []
    },
    {
      "cell_type": "markdown",
      "metadata": {
        "id": "pRGfZnUJvhX7",
        "colab_type": "text"
      },
      "source": [
        "Kiểm tra các thuộc tính chứa những dũ liệu có nội dung như thế nào."
      ]
    },
    {
      "cell_type": "code",
      "metadata": {
        "id": "C4cUChyz5kn2",
        "colab_type": "code",
        "colab": {
          "base_uri": "https://localhost:8080/",
          "height": 168
        },
        "outputId": "305c3d4b-3c87-489e-acc2-b67ab5a748e3"
      },
      "source": [
        "dataAttributes.manufacturer.unique()"
      ],
      "execution_count": null,
      "outputs": []
    },
    {
      "cell_type": "code",
      "metadata": {
        "id": "7hRxCDTR5Gei",
        "colab_type": "code",
        "colab": {
          "base_uri": "https://localhost:8080/",
          "height": 1000
        },
        "outputId": "68071c0d-06c7-4822-db24-59c2e1cdb003"
      },
      "source": [
        "dataAttributes.model.unique()"
      ],
      "execution_count": null,
      "outputs": []
    },
    {
      "cell_type": "markdown",
      "metadata": {
        "id": "KVSDRd6AW8iI",
        "colab_type": "text"
      },
      "source": [
        "Vì **model** có rất nhiều tên khác nhau, hơn nữa các thuộc tính còn lại đã đủ để miêu tả mẫu xe, nên loại bỏ thuộc tính **model**"
      ]
    },
    {
      "cell_type": "code",
      "metadata": {
        "id": "5qPRu_3O5-D6",
        "colab_type": "code",
        "colab": {
          "base_uri": "https://localhost:8080/",
          "height": 34
        },
        "outputId": "57966609-d32e-44dc-d576-250e30c9340d"
      },
      "source": [
        "dataAttributes.transmission.unique()"
      ],
      "execution_count": null,
      "outputs": []
    },
    {
      "cell_type": "code",
      "metadata": {
        "id": "JPYymkBT6KYk",
        "colab_type": "code",
        "colab": {
          "base_uri": "https://localhost:8080/",
          "height": 50
        },
        "outputId": "c0651fe1-7711-44cd-ac41-f7c513a55485"
      },
      "source": [
        "dataAttributes.color.unique()"
      ],
      "execution_count": null,
      "outputs": []
    },
    {
      "cell_type": "code",
      "metadata": {
        "id": "9cMaYYSEPky1",
        "colab_type": "code",
        "colab": {
          "base_uri": "https://localhost:8080/",
          "height": 50
        },
        "outputId": "17dae068-e56a-4610-b86b-80179ea3e208"
      },
      "source": [
        "dataAttributes.engineFuel.unique()"
      ],
      "execution_count": null,
      "outputs": []
    },
    {
      "cell_type": "code",
      "metadata": {
        "id": "fae1OH_H6Cr4",
        "colab_type": "code",
        "colab": {
          "base_uri": "https://localhost:8080/",
          "height": 34
        },
        "outputId": "37d95f26-ced3-495a-d5cb-9d55a0aa1ede"
      },
      "source": [
        "dataAttributes.engineType.unique()"
      ],
      "execution_count": null,
      "outputs": []
    },
    {
      "cell_type": "markdown",
      "metadata": {
        "id": "j5XLlpM_WwcR",
        "colab_type": "text"
      },
      "source": [
        "**Engine Fuel** và **Engine Type** luôn luôn cùng một loại thì xe mới hoạt động được. Mặt khác, xe có Engine Type là \"gasoline\" thì sử dụng được Engine Fuel là \"gasoline\" và \"hyrid-petrol\"; xe có Engine Type là \"diesel\" thì sử dụng được Engine Fuel là \"diesel\" và \"hyrid-diesel\"; xe có Engine Type là \"electric\" thì sử dụng được Engine Fuel là \"electric\". Vậy nên, loại bỏ thuộc tính tương tự **Engine Fuel**."
      ]
    },
    {
      "cell_type": "code",
      "metadata": {
        "id": "BiTaKTQT6SBt",
        "colab_type": "code",
        "colab": {
          "base_uri": "https://localhost:8080/",
          "height": 67
        },
        "outputId": "fb62a2b8-1bf2-4f6d-f727-c473f7e76cce"
      },
      "source": [
        "dataAttributes.bodyType.unique()"
      ],
      "execution_count": null,
      "outputs": []
    },
    {
      "cell_type": "code",
      "metadata": {
        "id": "SIFYIl6w6lDc",
        "colab_type": "code",
        "colab": {
          "base_uri": "https://localhost:8080/",
          "height": 34
        },
        "outputId": "05cd3dfc-a69f-40ec-8119-1f920094231f"
      },
      "source": [
        "dataAttributes.drivetrain.unique()"
      ],
      "execution_count": null,
      "outputs": []
    },
    {
      "cell_type": "markdown",
      "metadata": {
        "id": "nU7twbH5IZaj",
        "colab_type": "text"
      },
      "source": [
        "**Bước 3:** Trực quan hóa dữ liệu:"
      ]
    },
    {
      "cell_type": "code",
      "metadata": {
        "id": "GVep3j4cnNeO",
        "colab_type": "code",
        "colab": {
          "base_uri": "https://localhost:8080/",
          "height": 422
        },
        "outputId": "e6462243-4a12-4c01-ec56-838a7f0d1f98"
      },
      "source": [
        "data_cars = pd.concat([dataAttributes, dataPrice], axis = 1)\n",
        "data_cars = data_cars.dropna()\n",
        "del data_cars['id']\n",
        "del data_cars['model']\n",
        "del data_cars['engineType']\n",
        "data_cars"
      ],
      "execution_count": null,
      "outputs": []
    },
    {
      "cell_type": "code",
      "metadata": {
        "id": "ZADoTut5If7d",
        "colab_type": "code",
        "colab": {
          "base_uri": "https://localhost:8080/",
          "height": 718
        },
        "outputId": "30ddb47e-470e-467a-df5f-89785e6e707e"
      },
      "source": [
        "plt.figure(figsize=(60,30))\n",
        "\n",
        "plt.subplot(1,2,1)\n",
        "plt.title('Car Price Distribution Plot')\n",
        "sns.distplot(data_cars.price)\n",
        "\n",
        "plt.subplot(1,2,2)\n",
        "plt.title('Car Price Spread')\n",
        "sns.boxplot(y=data_cars.price)\n",
        "\n",
        "plt.show()"
      ],
      "execution_count": null,
      "outputs": []
    },
    {
      "cell_type": "code",
      "metadata": {
        "id": "X-4pr_gOOYWv",
        "colab_type": "code",
        "colab": {
          "base_uri": "https://localhost:8080/",
          "height": 168
        },
        "outputId": "242a5056-acff-42bc-c9f0-8ee6487a1c4d"
      },
      "source": [
        "data_cars.price.describe()"
      ],
      "execution_count": null,
      "outputs": []
    },
    {
      "cell_type": "markdown",
      "metadata": {
        "id": "J-E91swiSV-3",
        "colab_type": "text"
      },
      "source": [
        "Nhận xét: \n",
        "\n",
        "1.   Biểu đồ lệch sang phần bên trái nghĩa là hầu hết các mức giá trong tập dữ liệu đều thấp (Dưới 10000).\n",
        "2.   Chênh lệch giữa giá trị trung bình và giá trị trung bình của phân phối giá không quá nhiều.\n",
        "3. Các điểm dữ liệu xấp xỉ với giá trị trung bình, điều này cho thấy giá xe có sự chênh lệch thấp. (75% giá dưới 8.999, trong khi 50% giá dưới 4.900 và 25% giá dưới 2300).\n",
        "\n"
      ]
    },
    {
      "cell_type": "markdown",
      "metadata": {
        "id": "100sdh2KUrC_",
        "colab_type": "text"
      },
      "source": [
        "**Bước 3.1:** Trực quan hóa các thuộc tính dữ liệu:\n",
        "- manufacturer\n",
        "- transmission\n",
        "- color\n",
        "- engineFuel\n",
        "- engineType\n",
        "- bodyType\n",
        "- drivetrain"
      ]
    },
    {
      "cell_type": "code",
      "metadata": {
        "id": "q78kmWu9QpYs",
        "colab_type": "code",
        "colab": {
          "base_uri": "https://localhost:8080/",
          "height": 604
        },
        "outputId": "2e3f3be6-eeca-4942-ad61-b757f708fc1a"
      },
      "source": [
        "plt.figure(figsize=(25, 10))\n",
        "\n",
        "plt1 = data_cars.manufacturer.value_counts().plot()\n",
        "plt1.bar(data_cars.manufacturer.unique(), data_cars.manufacturer.value_counts())\n",
        "plt.title('Manufacturer Histogram')\n",
        "plt1.set(xlabel = 'manufacturer', ylabel='Frequency of manufacturer')\n",
        "\n",
        "plt.show()"
      ],
      "execution_count": null,
      "outputs": []
    },
    {
      "cell_type": "code",
      "metadata": {
        "id": "GCRy3vcovkIs",
        "colab_type": "code",
        "colab": {
          "base_uri": "https://localhost:8080/",
          "height": 641
        },
        "outputId": "979a152c-15a9-4d30-9f4c-07fc96108275"
      },
      "source": [
        "plt.figure(figsize=(25, 10))\n",
        "\n",
        "plt.title('Manufacturer vs Price')\n",
        "sns.boxplot(x=data_cars.manufacturer, y=data_cars.price, palette=(\"Blues\"))\n",
        "\n",
        "plt.show()"
      ],
      "execution_count": null,
      "outputs": []
    },
    {
      "cell_type": "markdown",
      "metadata": {
        "id": "vHmSmawKd329",
        "colab_type": "text"
      },
      "source": [
        "Nhận xét: \n",
        "1. Volkswagen là nhà sản xuất xe hơi được ưa chuộng nhất.\n",
        "2. Xe của nhà sản xuất Porsc có giá bán cao nhất."
      ]
    },
    {
      "cell_type": "code",
      "metadata": {
        "id": "fqReZng0lIKf",
        "colab_type": "code",
        "colab": {
          "base_uri": "https://localhost:8080/",
          "height": 350
        },
        "outputId": "a892ccb7-916d-4c62-e236-b668d8b72ced"
      },
      "source": [
        "plt.figure(figsize=(15,5))\n",
        "\n",
        "plt.subplot(1,2,1)\n",
        "plt.title('Transmission Histogram')\n",
        "sns.countplot(data_cars.transmission, palette=(\"plasma\"))\n",
        "\n",
        "plt.subplot(1,2,2)\n",
        "plt.title('Transmission vs Price')\n",
        "sns.boxplot(x=data_cars.transmission, y=data_cars.price, palette=(\"plasma\"))\n",
        "\n",
        "plt.show()"
      ],
      "execution_count": null,
      "outputs": []
    },
    {
      "cell_type": "markdown",
      "metadata": {
        "id": "i7zlXS0KqEgK",
        "colab_type": "text"
      },
      "source": [
        "Nhận xét:\n",
        "1. Xe có loại hộp số `mechanical` bán ra nhiều gần gấp đôi loại hộp số `automatic`.\n",
        "2. Giá của hộp số `automatic` cao hơn loại hộp số `machanical`."
      ]
    },
    {
      "cell_type": "code",
      "metadata": {
        "id": "Oo6wR03fiqTo",
        "colab_type": "code",
        "colab": {
          "base_uri": "https://localhost:8080/",
          "height": 513
        },
        "outputId": "c64c0c97-baad-4b24-9ddb-ecce79faf179"
      },
      "source": [
        "plt.figure(figsize=(20,8))\n",
        "\n",
        "plt.subplot(1,2,1)\n",
        "plt.title('Color Histogram')\n",
        "sns.countplot(data_cars.color, palette=(\"Blues_d\"))\n",
        "\n",
        "plt.subplot(1,2,2)\n",
        "plt.title('Color vs Price')\n",
        "sns.boxplot(x=data_cars.color, y=data_cars.price, palette=(\"PuBuGn\"))\n",
        "\n",
        "plt.show()"
      ],
      "execution_count": null,
      "outputs": []
    },
    {
      "cell_type": "markdown",
      "metadata": {
        "id": "S_N84wY7kRc0",
        "colab_type": "text"
      },
      "source": [
        "Nhận xét:\n",
        "1. Xe màu `black` được mua nhiều nhất.\n",
        "2. Xe có màu `brown` bán với giá cao hơn các màu xe khác."
      ]
    },
    {
      "cell_type": "code",
      "metadata": {
        "id": "2BXjzBiHaaG0",
        "colab_type": "code",
        "colab": {
          "base_uri": "https://localhost:8080/",
          "height": 601
        },
        "outputId": "aad46252-afa9-4a74-e2da-48db3538e2aa"
      },
      "source": [
        "plt.figure(figsize=(25, 10))\n",
        "\n",
        "plt.subplot(1,2,1)\n",
        "plt1 = data_cars.engineFuel.value_counts().plot()\n",
        "plt1.bar(data_cars.engineFuel.unique(), data_cars.engineFuel.value_counts())\n",
        "plt.title('Engine Fuel Histogram')\n",
        "plt1.set(xlabel = 'Engine Fuel', ylabel='Frequency of Engine Fuel')\n",
        "\n",
        "plt.subplot(1,2,2)\n",
        "plt1 = data_cars.engineType.value_counts().plot()\n",
        "plt1.bar(data_cars.engineType.unique(), data_cars.engineType.value_counts())\n",
        "plt.title('Engine Type Histogram')\n",
        "plt1.set(xlabel = 'Engine Type', ylabel='Frequency of Engine Type')\n",
        "\n",
        "plt.show()"
      ],
      "execution_count": null,
      "outputs": []
    },
    {
      "cell_type": "markdown",
      "metadata": {
        "id": "aFdAsctifz9h",
        "colab_type": "text"
      },
      "source": [
        "Nhận xét: \n",
        "1. Hai thuộc tính **Engine Fuel** và **Engine Type** tương tự nhau.\n",
        "2. Xe chạy bằng \"gasoline\" và sử dụng nhiên liệu \"gasoline\" nhiều hơn hẳn.\n",
        "3. Không có dữ liệu của thuộc tính **electric** nên khó có thể đưa ra suy luận nếu tập dữ liệu mẫu có chứa thuộc tính **electic**."
      ]
    },
    {
      "cell_type": "code",
      "metadata": {
        "id": "afEG3SMXgA-z",
        "colab_type": "code",
        "colab": {
          "base_uri": "https://localhost:8080/",
          "height": 513
        },
        "outputId": "1187e6e5-bd55-4016-d283-44311078475b"
      },
      "source": [
        "plt.figure(figsize=(20,8))\n",
        "\n",
        "plt.subplot(1,2,1)\n",
        "plt.title('Body Type Histogram')\n",
        "sns.countplot(data_cars.bodyType, palette=(\"cubehelix\"))\n",
        "\n",
        "plt.subplot(1,2,2)\n",
        "plt.title('Body Type vs Price')\n",
        "sns.boxplot(x=data_cars.bodyType, y=data_cars.price, palette=(\"cubehelix\"))\n",
        "\n",
        "plt.show()"
      ],
      "execution_count": null,
      "outputs": []
    },
    {
      "cell_type": "markdown",
      "metadata": {
        "id": "NUZOeSRohcyc",
        "colab_type": "text"
      },
      "source": [
        "Nhận xét:\n",
        "1. Dạng thân xe `sedan`, `hatchback`, `universal` và `suv` có số lượng lớn xe được bán ra.\n",
        "2. Những dạng thân xe `suv`, `pickup`, `cabrioleti` có giá bán cao hơn hẳn."
      ]
    },
    {
      "cell_type": "code",
      "metadata": {
        "id": "b1aohql5igs7",
        "colab_type": "code",
        "colab": {
          "base_uri": "https://localhost:8080/",
          "height": 350
        },
        "outputId": "379acc3e-12bf-441e-9c5e-5a280fb58204"
      },
      "source": [
        "plt.figure(figsize=(15,5))\n",
        "\n",
        "plt.subplot(1,2,1)\n",
        "plt.title('Drive Train Histogram')\n",
        "sns.countplot(data_cars.drivetrain, palette=(\"plasma\"))\n",
        "\n",
        "plt.subplot(1,2,2)\n",
        "plt.title('Drive Train vs Price')\n",
        "sns.boxplot(x=data_cars.drivetrain, y=data_cars.price, palette=(\"plasma\"))\n",
        "\n",
        "plt.show()"
      ],
      "execution_count": null,
      "outputs": []
    },
    {
      "cell_type": "markdown",
      "metadata": {
        "id": "_QON6J-droKf",
        "colab_type": "text"
      },
      "source": [
        "Nhận xét:\n",
        "1. Xe có hệ thống dẫn động `front` được bán nhiều hơn hẳn.\n",
        "2. Giá bán xe của hệ thống dẫn động `all` cao hơn 2 loại còn lại."
      ]
    },
    {
      "cell_type": "markdown",
      "metadata": {
        "id": "ob-XhhfRsGsT",
        "colab_type": "text"
      },
      "source": [
        "**Bước 3.2:** Trực quan hóa dữ liệu số:\n",
        "- odometer\n",
        "- year\n",
        "- engineCapacity\n",
        "- photos"
      ]
    },
    {
      "cell_type": "code",
      "metadata": {
        "id": "hX2AfSjmsmg5",
        "colab_type": "code",
        "colab": {
          "base_uri": "https://localhost:8080/",
          "height": 604
        },
        "outputId": "e1ca60b5-28b6-4640-b4b9-a5a2d9cd0b6a"
      },
      "source": [
        "def scatter(x,fig):\n",
        "    plt.subplot(5,2,fig)\n",
        "    plt.scatter(data_cars[x],data_cars['price'])\n",
        "    plt.title(x+' vs Price')\n",
        "    plt.ylabel('Price')\n",
        "    plt.xlabel(x)\n",
        "\n",
        "plt.figure(figsize=(10,20))\n",
        "\n",
        "scatter('odometer', 1)\n",
        "scatter('year', 2)\n",
        "scatter('engineCapacity', 3)\n",
        "scatter('photos', 4)\n",
        "\n",
        "plt.tight_layout()"
      ],
      "execution_count": null,
      "outputs": []
    },
    {
      "cell_type": "markdown",
      "metadata": {
        "id": "BJag8IputOST",
        "colab_type": "text"
      },
      "source": [
        "Nhận xét:\n",
        "1. Số km mà xe đã đi càng lớn thì giá xe càng rẻ.\n",
        "2. Năm sản xuất xe càng gần hiện tại thì giá xe càng cao.\n",
        "3. Dung tích động cơ và số lượng ảnh chụp về xe dường như không cho thấy bất kì xu hướng đáng kể nào với giá cả."
      ]
    },
    {
      "cell_type": "code",
      "metadata": {
        "id": "HJTGR8Act60D",
        "colab_type": "code",
        "colab": {
          "base_uri": "https://localhost:8080/",
          "height": 34
        },
        "outputId": "8c184468-d955-43fc-d0f3-e98f6d3e7a16"
      },
      "source": [
        "np.corrcoef(data_cars['odometer'], data_cars['year'])[0, 1]"
      ],
      "execution_count": null,
      "outputs": []
    },
    {
      "cell_type": "markdown",
      "metadata": {
        "id": "YQv6IRvouzGz",
        "colab_type": "text"
      },
      "source": [
        "**Bước 4:** Phân tích đồng thời nhiều thuộc tính\n"
      ]
    },
    {
      "cell_type": "code",
      "metadata": {
        "id": "WbL_q3H7uylZ",
        "colab_type": "code",
        "colab": {
          "base_uri": "https://localhost:8080/",
          "height": 910
        },
        "outputId": "2d0692e4-7a4c-4fdf-8349-f57ab215d50b"
      },
      "source": [
        "plt.figure(figsize=(20,15))\n",
        "\n",
        "plt.title('Odometer vs Price')\n",
        "sns.scatterplot(x=data_cars['odometer'],y=data_cars['price'],hue=data_cars['year'])\n",
        "plt.xlabel('Odometer')\n",
        "plt.ylabel('Price')\n",
        "\n",
        "plt.show()\n",
        "plt.tight_layout()"
      ],
      "execution_count": null,
      "outputs": []
    },
    {
      "cell_type": "markdown",
      "metadata": {
        "id": "5OlGTOAex2q6",
        "colab_type": "text"
      },
      "source": [
        "Nhận xét: Số km xe đã đi được có mối tương quan nghịch với số năm và giá cả của xe."
      ]
    },
    {
      "cell_type": "markdown",
      "metadata": {
        "id": "rFW8lgIm0AmP",
        "colab_type": "text"
      },
      "source": [
        "Danh sách các biến quan trọng sau khi phân tích trực quan:\n",
        "- manufacturer\n",
        "- transmission\n",
        "- color\n",
        "- bodyType\n",
        "- drivetrain\n",
        "- odometer\n",
        "- year"
      ]
    },
    {
      "cell_type": "code",
      "metadata": {
        "id": "zmc9xppq01Cl",
        "colab_type": "code",
        "colab": {
          "base_uri": "https://localhost:8080/",
          "height": 195
        },
        "outputId": "5a60a856-5a17-4466-94fd-ff977d8500c1"
      },
      "source": [
        "cars_final = data_cars[['manufacturer', 'transmission', 'color', 'bodyType', 'drivetrain', 'odometer', 'year', 'price']]\n",
        "cars_final.head()"
      ],
      "execution_count": null,
      "outputs": []
    },
    {
      "cell_type": "code",
      "execution_count": null,
      "metadata": {},
      "outputs": [],
      "source": [
        "cars_final.info()"
      ]
    },
    {
      "cell_type": "code",
      "metadata": {
        "id": "EPptCtHs1W-K",
        "colab_type": "code",
        "colab": {
          "base_uri": "https://localhost:8080/",
          "height": 595
        },
        "outputId": "ae9ac856-ca4d-496a-f016-b58b66db1bc6"
      },
      "source": [
        "plt.figure(figsize=(100, 100))\n",
        "sns.pairplot(cars_final)\n",
        "plt.show()"
      ],
      "execution_count": null,
      "outputs": []
    },
    {
      "cell_type": "markdown",
      "metadata": {
        "id": "8tny0aL61328",
        "colab_type": "text"
      },
      "source": [
        "**Bước 5:** Tạo biến giả"
      ]
    },
    {
      "cell_type": "code",
      "metadata": {
        "id": "OmNbnfiN119w",
        "colab_type": "code",
        "colab": {}
      },
      "source": [
        "def dummies(x,df):\n",
        "    temp = pd.get_dummies(df[x], drop_first = True)\n",
        "    df = pd.concat([df, temp], axis = 1)\n",
        "    df.drop([x], axis = 1, inplace = True)\n",
        "    return df\n",
        "\n",
        "cars_final = dummies('manufacturer',cars_final)\n",
        "cars_final = dummies('transmission',cars_final)\n",
        "cars_final = dummies('color',cars_final)\n",
        "cars_final = dummies('bodyType',cars_final)\n",
        "cars_final = dummies('drivetrain',cars_final)"
      ],
      "execution_count": null,
      "outputs": []
    },
    {
      "cell_type": "code",
      "metadata": {
        "id": "UhNcdO-m3Fck",
        "colab_type": "code",
        "colab": {
          "base_uri": "https://localhost:8080/",
          "height": 232
        },
        "outputId": "c0f80e98-bf54-4902-82b8-fce9b654152d"
      },
      "source": [
        "cars_final.head()"
      ],
      "execution_count": null,
      "outputs": []
    },
    {
      "cell_type": "code",
      "metadata": {
        "id": "aiJFYA3o5RkV",
        "colab_type": "code",
        "colab": {
          "base_uri": "https://localhost:8080/",
          "height": 34
        },
        "outputId": "26f8d67b-bb3a-4773-9a10-79715d1f39da"
      },
      "source": [
        "cars_final.shape"
      ],
      "execution_count": null,
      "outputs": []
    },
    {
      "cell_type": "code",
      "execution_count": null,
      "metadata": {},
      "outputs": [],
      "source": [
        "cars_final.info()"
      ]
    },
    {
      "cell_type": "code",
      "execution_count": null,
      "metadata": {},
      "outputs": [],
      "source": [
        "cars_final.columns"
      ]
    },
    {
      "cell_type": "markdown",
      "metadata": {
        "id": "fevngXcS5cNQ",
        "colab_type": "text"
      },
      "source": [
        "**Bước 6:** Train-Test"
      ]
    },
    {
      "cell_type": "code",
      "metadata": {
        "id": "jFdQ6mc95anZ",
        "colab_type": "code",
        "colab": {}
      },
      "source": [
        "np.random.seed(0)\n",
        "df_train, df_test = train_test_split(cars_final, train_size = 0.7, test_size = 0.3, random_state = 100)"
      ],
      "execution_count": null,
      "outputs": []
    },
    {
      "cell_type": "code",
      "metadata": {
        "id": "x0Nx4y0r5wOk",
        "colab_type": "code",
        "colab": {
          "base_uri": "https://localhost:8080/",
          "height": 337
        },
        "outputId": "268aef65-abf5-4e00-9870-e44e6d600963"
      },
      "source": [
        "scaler = MinMaxScaler()\n",
        "num_vars = cars_final.columns\n",
        "df_train[num_vars] = scaler.fit_transform(df_train[num_vars])"
      ],
      "execution_count": null,
      "outputs": []
    },
    {
      "cell_type": "code",
      "metadata": {
        "id": "jeQS_9A762Rd",
        "colab_type": "code",
        "colab": {
          "base_uri": "https://localhost:8080/",
          "height": 232
        },
        "outputId": "7014811e-ebff-4577-b9bf-d0a03cfc3fc3"
      },
      "source": [
        "df_train.head()"
      ],
      "execution_count": null,
      "outputs": []
    },
    {
      "cell_type": "code",
      "metadata": {
        "id": "bO6qnFnl63Ak",
        "colab_type": "code",
        "colab": {
          "base_uri": "https://localhost:8080/",
          "height": 321
        },
        "outputId": "cd1f72cc-2b6e-4509-9ccc-b8e5288403d8"
      },
      "source": [
        "df_train.describe()"
      ],
      "execution_count": null,
      "outputs": []
    },
    {
      "cell_type": "code",
      "execution_count": null,
      "metadata": {},
      "outputs": [],
      "source": [
        "#Correlation using heatmap\n",
        "plt.figure(figsize = (30, 25))\n",
        "sns.heatmap(df_train.corr(), annot = True, cmap=\"YlGnBu\")\n",
        "plt.show()"
      ]
    },
    {
      "cell_type": "code",
      "metadata": {
        "id": "mB_sSm-17Ao3",
        "colab_type": "code",
        "colab": {
          "base_uri": "https://localhost:8080/",
          "height": 690
        },
        "outputId": "6e443db1-0d1f-4a81-8b07-a75eee0b8689"
      },
      "source": [
        "y_train = df_train.pop('price')\n",
        "X_train = df_train"
      ],
      "execution_count": null,
      "outputs": []
    },
    {
      "cell_type": "markdown",
      "metadata": {
        "id": "Dx6u_L5n7zd4",
        "colab_type": "text"
      },
      "source": [
        "**Bước 7:** Xây dựng Model"
      ]
    },
    {
      "cell_type": "code",
      "metadata": {
        "id": "-E20EI4a7u70",
        "colab_type": "code",
        "colab": {}
      },
      "source": [
        "from sklearn.feature_selection import RFE\n",
        "from sklearn.linear_model import LinearRegression\n",
        "import statsmodels.api as sm \n",
        "from statsmodels.stats.outliers_influence import variance_inflation_factor"
      ],
      "execution_count": null,
      "outputs": []
    },
    {
      "cell_type": "code",
      "metadata": {
        "id": "v-vCF5QG79S1",
        "colab_type": "code",
        "colab": {}
      },
      "source": [
        "lm = LinearRegression()\n",
        "lm.fit(X_train,y_train)\n",
        "rfe = RFE(lm, 10)\n",
        "rfe = rfe.fit(X_train, y_train)"
      ],
      "execution_count": null,
      "outputs": []
    },
    {
      "cell_type": "code",
      "metadata": {
        "id": "lz0ysu9Y79zT",
        "colab_type": "code",
        "colab": {
          "base_uri": "https://localhost:8080/",
          "height": 1000
        },
        "outputId": "83abe99f-7a99-4d04-a7c1-13ba28fd7c59"
      },
      "source": [
        "list(zip(X_train.columns,rfe.support_,rfe.ranking_))"
      ],
      "execution_count": null,
      "outputs": []
    },
    {
      "cell_type": "code",
      "metadata": {
        "id": "ywIo4Pka8BEO",
        "colab_type": "code",
        "colab": {
          "base_uri": "https://localhost:8080/",
          "height": 67
        },
        "outputId": "20226735-75f1-47de-e143-85f032734bd2"
      },
      "source": [
        "X_train.columns[rfe.support_]"
      ],
      "execution_count": null,
      "outputs": []
    },
    {
      "cell_type": "code",
      "metadata": {
        "id": "KjjG5C0t8EyA",
        "colab_type": "code",
        "colab": {
          "base_uri": "https://localhost:8080/",
          "height": 195
        },
        "outputId": "3d88bc4d-2c0b-44e2-bbe8-2d8021ecdea1"
      },
      "source": [
        "X_train_rfe = X_train[X_train.columns[rfe.support_]]\n",
        "X_train_rfe.head()"
      ],
      "execution_count": null,
      "outputs": []
    },
    {
      "cell_type": "code",
      "metadata": {
        "id": "-5BR2MYm7EcH",
        "colab_type": "code",
        "colab": {}
      },
      "source": [
        "def build_model(X,y):\n",
        "    X = sm.add_constant(X) #Adding the constant\n",
        "    lm = sm.OLS(y,X).fit() # fitting the model\n",
        "    print(lm.summary()) # model summary\n",
        "    return X\n",
        "    \n",
        "def checkVIF(X):\n",
        "    vif = pd.DataFrame()\n",
        "    vif['Features'] = X.columns\n",
        "    vif['VIF'] = [variance_inflation_factor(X.values, i) for i in range(X.shape[1])]\n",
        "    vif['VIF'] = round(vif['VIF'], 2)\n",
        "    vif = vif.sort_values(by = \"VIF\", ascending = False)\n",
        "    return(vif)"
      ],
      "execution_count": null,
      "outputs": []
    },
    {
      "cell_type": "code",
      "metadata": {
        "id": "en_rw9Qt8PYw",
        "colab_type": "code",
        "colab": {
          "base_uri": "https://localhost:8080/",
          "height": 588
        },
        "outputId": "5a3a24d1-e459-492d-e4e7-8ae99b2b6960"
      },
      "source": [
        "X_train_new = build_model(X_train_rfe,y_train)"
      ],
      "execution_count": null,
      "outputs": []
    },
    {
      "cell_type": "code",
      "metadata": {
        "id": "J6BubPPk8VP1",
        "colab_type": "code",
        "colab": {}
      },
      "source": [
        "checkVIF(X_train_new)"
      ],
      "execution_count": null,
      "outputs": []
    },
    {
      "cell_type": "code",
      "execution_count": null,
      "metadata": {},
      "outputs": [],
      "source": [
        "lm = sm.OLS(y_train,X_train_new).fit()\n",
        "y_train_price = lm.predict(X_train_new)"
      ]
    },
    {
      "cell_type": "code",
      "execution_count": null,
      "metadata": {},
      "outputs": [],
      "source": [
        "# Plot the histogram of the error terms\n",
        "fig = plt.figure()\n",
        "sns.distplot((y_train - y_train_price), bins = 20)\n",
        "fig.suptitle('Error Terms', fontsize = 20)                  # Plot heading \n",
        "plt.xlabel('Errors', fontsize = 18)  "
      ]
    },
    {
      "source": [
        "Step 8: Prediction and Evaluation"
      ],
      "cell_type": "markdown",
      "metadata": {}
    },
    {
      "cell_type": "code",
      "execution_count": null,
      "metadata": {},
      "outputs": [],
      "source": [
        "#Scaling the test set\n",
        "num_vars = cars_final.columns\n",
        "df_test[num_vars] = scaler.fit_transform(df_test[num_vars])"
      ]
    },
    {
      "cell_type": "code",
      "execution_count": null,
      "metadata": {},
      "outputs": [],
      "source": [
        "#Dividing into X and y\n",
        "y_test = df_test.pop('price')\n",
        "X_test = df_test"
      ]
    },
    {
      "cell_type": "code",
      "execution_count": null,
      "metadata": {},
      "outputs": [],
      "source": [
        "# Now let's use our model to make predictions.\n",
        "X_train_new = X_train_new.drop('const',axis=1)\n",
        "# Creating X_test_new dataframe by dropping variables from X_test\n",
        "X_test_new = X_test[X_train_new.columns]\n",
        "\n",
        "# Adding a constant variable \n",
        "X_test_new = sm.add_constant(X_test_new)"
      ]
    },
    {
      "cell_type": "code",
      "execution_count": null,
      "metadata": {},
      "outputs": [],
      "source": [
        "# Making predictions\n",
        "y_pred = lm.predict(X_test_new)"
      ]
    },
    {
      "cell_type": "code",
      "execution_count": null,
      "metadata": {},
      "outputs": [],
      "source": [
        "from sklearn.metrics import r2_score \n",
        "r2_score(y_test, y_pred)"
      ]
    },
    {
      "cell_type": "code",
      "execution_count": null,
      "metadata": {},
      "outputs": [],
      "source": [
        "#EVALUATION OF THE MODEL\n",
        "# Plotting y_test and y_pred to understand the spread.\n",
        "fig = plt.figure()\n",
        "plt.scatter(y_test,y_pred)\n",
        "fig.suptitle('y_test vs y_pred', fontsize=20)              # Plot heading \n",
        "plt.xlabel('y_test', fontsize=18)                          # X-label\n",
        "plt.ylabel('y_pred', fontsize=16)  "
      ]
    },
    {
      "cell_type": "code",
      "execution_count": null,
      "metadata": {},
      "outputs": [],
      "source": [
        "print(lm.summary())"
      ]
    },
    {
      "source": [
        "- R-sqaured and Adjusted R-squared (extent of fit) - 0.634 and 0.634 - 60% variance explained.\n",
        "- F-stats and Prob(F-stats) (overall model fit) - 3635.0 and 0.00 - Model fir is significant and explained 60% variance is just not by chance.\n",
        "- p-values - p-values for all the coefficients seem to be less than the significance level of 0.05. - meaning that all the predictors are statistically significant."
      ],
      "cell_type": "markdown",
      "metadata": {}
    },
    {
      "cell_type": "code",
      "execution_count": null,
      "metadata": {},
      "outputs": [],
      "source": []
    }
  ]
}